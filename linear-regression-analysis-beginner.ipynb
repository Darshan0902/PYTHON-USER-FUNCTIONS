{
 "cells": [
  {
   "cell_type": "markdown",
   "id": "1bb54dac",
   "metadata": {
    "_kg_hide-input": true,
    "papermill": {
     "duration": 0.010081,
     "end_time": "2023-05-30T20:36:16.762598",
     "exception": false,
     "start_time": "2023-05-30T20:36:16.752517",
     "status": "completed"
    },
    "tags": []
   },
   "source": [
    "<p style=\"padding: 10px; background-color: #000000; margin: 0; color: yellow; font-family: New Times Roman; font-size: 135%; text-align: center; border-radius: 5px; overflow: hidden; font-weight: 500;\">\n",
    "  WARM GREETINGS.\n",
    "</p>\n",
    "\n",
    "## <span style=\"color: green;\"> **I hope you all are doing well . I made this notebook with a inclusion of little bit of old style. I implemented and created a Linear regression Graph or chart without making use of Sklearn.Linear regression model , I qould encourage and love your reviews and upvotes for the same** </span> "
   ]
  },
  {
   "cell_type": "markdown",
   "id": "c6037432",
   "metadata": {
    "papermill": {
     "duration": 0.00872,
     "end_time": "2023-05-30T20:36:16.780511",
     "exception": false,
     "start_time": "2023-05-30T20:36:16.771791",
     "status": "completed"
    },
    "tags": []
   },
   "source": [
    "## <span style=\"color: #FF4500;\"> **Linear Regression : (Y = β0 + β1*x + ε)** </span>\n",
    "\n",
    "\n",
    "Where ε is a random variable. 2 variables are related linearly “on average” if for fixed x the actual value of Y differs from its expected value by a random amount (i.e. there is random error).\n",
    "Linear regression analysis is used to predict the value of a variable based on the value of another variable. The variable you want to predict is called the dependent variable. The variable you are using to predict the other variable's value is called the independent variable."
   ]
  },
  {
   "cell_type": "markdown",
   "id": "f34d7bbd",
   "metadata": {
    "papermill": {
     "duration": 0.008606,
     "end_time": "2023-05-30T20:36:16.798240",
     "exception": false,
     "start_time": "2023-05-30T20:36:16.789634",
     "status": "completed"
    },
    "tags": []
   },
   "source": [
    "<p style=\"padding: 10px; background-color: #000000; margin: 0; color: #FF4500; font-family: New Times Roman; font-size: 135%; text-align: center; border-radius: 5px; overflow: hidden; font-weight: 500;\">\n",
    " STEPS FOR BUILDING A LINEAR REGRESSION MODEL: \n",
    "</p>\n",
    "\n",
    "## <span style=\"color: #FF4500;\">\n",
    "\n",
    "\n",
    "\n",
    "\n",
    "To build a linear regression model, you can follow these general steps:\n",
    "\n",
    "**Import the necessary libraries:** Start by importing the required libraries, such as Pandas for data manipulation, NumPy for numerical operations, and scikit-learn for machine learning tasks.\n",
    "\n",
    "**Load and explore the data**: Load the dataset into a Pandas DataFrame and explore its structure. Check the dimensions, examine the columns, and identify the target variable (the variable you want to predict) and the predictor variables (the variables used to make predictions).\n",
    "\n",
    "**Preprocess the data**: Prepare the data for modeling by handling missing values, encoding categorical variables, and scaling numerical variables if necessary. You may need to apply techniques like one-hot encoding, label encoding, or feature scaling using methods from the scikit-learn library.\n",
    "\n",
    "**Split the data into training and testing sets:** Split the dataset into a training set and a testing set. The training set is used to train the model, while the testing set is used to evaluate its performance.\n",
    "\n",
    "**Create and train the linear regression model: **Create an instance of the linear regression model from scikit-learn's LinearRegression class. Fit the model to the training data using the fit() method.\n",
    "\n",
    "**Evaluate the model:** Once the model is trained, evaluate its performance on the testing set. Use appropriate evaluation metrics for regression tasks, such as mean squared error (MSE), root mean squared error (RMSE), or R-squared score. You can calculate these metrics using functions from scikit-learn.\n",
    "\n",
    "**Make predictions:** Use the trained model to make predictions on new data. You can pass new predictor variables to the model's predict() method to obtain the corresponding predicted target values.\n",
    "\n",
    "**Fine-tune the model (optional):** If the model's performance is not satisfactory, you can try improving it by fine-tuning hyperparameters or applying feature selection techniques. This could involve methods like cross-validation, grid search, or regularization techniques.\n",
    "\n",
    "**Deploy the model:** Once you are satisfied with the model's performance, you can deploy it to make predictions on new, unseen data.\n",
    "    \n",
    "    \n",
    "</span>"
   ]
  },
  {
   "cell_type": "markdown",
   "id": "d5a9f802",
   "metadata": {
    "papermill": {
     "duration": 0.008743,
     "end_time": "2023-05-30T20:36:16.816052",
     "exception": false,
     "start_time": "2023-05-30T20:36:16.807309",
     "status": "completed"
    },
    "tags": []
   },
   "source": [
    "<p style=\"padding: 10px; background-color: #000000; margin: 0; color: #FF4500; font-family: New Times Roman; font-size: 135%; text-align: center; border-radius: 5px; overflow: hidden; font-weight: 500;\">\n",
    "  DATA DESCRIPTION : \n",
    "</p>\n",
    "\n",
    "## <span style=\"color: #FF4500;\"> **Data Description:** </span> \n",
    "\n",
    "\n",
    "The \"Salary vs. Years of Experience\" dataset is a collection of information that highlights the relationship between individuals' salaries and their years of professional experience. The dataset encompasses two main variables: \"YearsExperience\" and \"Salary.\"\n",
    "\n",
    "The \"YearsExperience\" variable represents the number of years an individual has been working in their field, while the \"Salary\" variable denotes the corresponding salary amount for each person. The dataset provides a range of values for both variables, allowing for a comprehensive analysis of how salaries tend to change with varying levels of experience.\n",
    "\n",
    "The dataset includes counts for each distinct range of years of experience and salary intervals, offering an overview of the distribution across different segments. Additionally, specific examples are given for both variables, showcasing individual data points and their corresponding salary and experience levels.\n",
    "\n",
    "This dataset can be used to explore various aspects related to salary trends and the impact of experience on earning potential. Researchers, economists, human resource professionals, and anyone interested in understanding the relationship between salary and professional experience can utilize this dataset for analysis, visualizations, and further investigations.\n",
    "\n",
    "\n"
   ]
  },
  {
   "cell_type": "markdown",
   "id": "e2f5be63",
   "metadata": {
    "papermill": {
     "duration": 0.008619,
     "end_time": "2023-05-30T20:36:16.833711",
     "exception": false,
     "start_time": "2023-05-30T20:36:16.825092",
     "status": "completed"
    },
    "tags": []
   },
   "source": [
    "<p style=\"padding: 10px; background-color: #000000; margin: 0; color: #FF4500; font-family: New Times Roman; font-size: 135%; text-align: center; border-radius: 5px; overflow: hidden; font-weight: 500;\">\n",
    " STEP-1 :  IMPORTING LIBRARIES : \n",
    "</p>\n",
    "\n",
    "## <span style=\"color: #FF4500;\"> **Importing Pandas , Numpy . Matplotlib.pyplot and Sklearn models:** </span>"
   ]
  },
  {
   "cell_type": "code",
   "execution_count": 1,
   "id": "95173898",
   "metadata": {
    "execution": {
     "iopub.execute_input": "2023-05-30T20:36:16.855116Z",
     "iopub.status.busy": "2023-05-30T20:36:16.854111Z",
     "iopub.status.idle": "2023-05-30T20:36:18.160488Z",
     "shell.execute_reply": "2023-05-30T20:36:18.159545Z"
    },
    "papermill": {
     "duration": 1.319631,
     "end_time": "2023-05-30T20:36:18.162950",
     "exception": false,
     "start_time": "2023-05-30T20:36:16.843319",
     "status": "completed"
    },
    "tags": []
   },
   "outputs": [
    {
     "name": "stderr",
     "output_type": "stream",
     "text": [
      "/opt/conda/lib/python3.10/site-packages/scipy/__init__.py:146: UserWarning: A NumPy version >=1.16.5 and <1.23.0 is required for this version of SciPy (detected version 1.23.5\n",
      "  warnings.warn(f\"A NumPy version >={np_minversion} and <{np_maxversion}\"\n"
     ]
    }
   ],
   "source": [
    "# Importing all the Libraries we will be needing in the project \n",
    "\n",
    "\n",
    "#For arrays and matrices.\n",
    "import numpy as np \n",
    "\n",
    "#For data manupilation and data related activities.\n",
    "import pandas as pd\n",
    "\n",
    "#For visualization.\n",
    "import matplotlib.pyplot as plt\n",
    "\n",
    "#Using sklearn models to split our dataset into Training and Testing parts.\n",
    "from sklearn.model_selection import train_test_split\n"
   ]
  },
  {
   "cell_type": "markdown",
   "id": "a12de1ef",
   "metadata": {
    "papermill": {
     "duration": 0.009065,
     "end_time": "2023-05-30T20:36:18.181666",
     "exception": false,
     "start_time": "2023-05-30T20:36:18.172601",
     "status": "completed"
    },
    "tags": []
   },
   "source": [
    "<p style=\"padding: 10px; background-color: #000000; margin: 0; color: #FF4500; font-family: New Times Roman; font-size: 135%; text-align: center; border-radius: 5px; overflow: hidden; font-weight: 500;\">\n",
    " STEP-3 : IMPORTING DATASET : \n",
    "</p>\n",
    "\n",
    "## <span style=\"color: #FF4500;\"> **IMPORTING THE CSV DATASET USING PANDAS:** </span>"
   ]
  },
  {
   "cell_type": "code",
   "execution_count": 2,
   "id": "a0283efd",
   "metadata": {
    "execution": {
     "iopub.execute_input": "2023-05-30T20:36:18.202439Z",
     "iopub.status.busy": "2023-05-30T20:36:18.201288Z",
     "iopub.status.idle": "2023-05-30T20:36:18.223383Z",
     "shell.execute_reply": "2023-05-30T20:36:18.222351Z"
    },
    "papermill": {
     "duration": 0.035233,
     "end_time": "2023-05-30T20:36:18.226113",
     "exception": false,
     "start_time": "2023-05-30T20:36:18.190880",
     "status": "completed"
    },
    "tags": []
   },
   "outputs": [],
   "source": [
    "#In this cell we Read the uploaded dataset file ('Salary_data') in CSV format\n",
    "\n",
    "df = pd.read_csv(\"/kaggle/input/salary-data-for-linear-regression/salary_data.csv\")"
   ]
  },
  {
   "cell_type": "markdown",
   "id": "6ceaca6f",
   "metadata": {
    "papermill": {
     "duration": 0.008929,
     "end_time": "2023-05-30T20:36:18.244365",
     "exception": false,
     "start_time": "2023-05-30T20:36:18.235436",
     "status": "completed"
    },
    "tags": []
   },
   "source": [
    "<p style=\"padding: 10px; background-color: #000000; margin: 0; color: #FF4500; font-family: New Times Roman; font-size: 135%; text-align: center; border-radius: 5px; overflow: hidden; font-weight: 500;\">\n",
    " STEP-4 : EXPLORATORY DATA ANALYSIS : \n",
    "</p>\n",
    "\n",
    "## <span style=\"color: #FF4500;\"> **KNOWING THE DATA BETTER:** </span>"
   ]
  },
  {
   "cell_type": "markdown",
   "id": "4568c499",
   "metadata": {
    "papermill": {
     "duration": 0.00874,
     "end_time": "2023-05-30T20:36:18.262382",
     "exception": false,
     "start_time": "2023-05-30T20:36:18.253642",
     "status": "completed"
    },
    "tags": []
   },
   "source": [
    "## <span style=\"color: #FF4500;\"> *4.1  DataFrame.head():* </span>\n",
    "#### Returns the first  rows of a DataFrame.\n"
   ]
  },
  {
   "cell_type": "code",
   "execution_count": 3,
   "id": "b535629c",
   "metadata": {
    "execution": {
     "iopub.execute_input": "2023-05-30T20:36:18.282710Z",
     "iopub.status.busy": "2023-05-30T20:36:18.282295Z",
     "iopub.status.idle": "2023-05-30T20:36:18.314077Z",
     "shell.execute_reply": "2023-05-30T20:36:18.313196Z"
    },
    "papermill": {
     "duration": 0.044273,
     "end_time": "2023-05-30T20:36:18.316197",
     "exception": false,
     "start_time": "2023-05-30T20:36:18.271924",
     "status": "completed"
    },
    "tags": []
   },
   "outputs": [
    {
     "data": {
      "text/html": [
       "<div>\n",
       "<style scoped>\n",
       "    .dataframe tbody tr th:only-of-type {\n",
       "        vertical-align: middle;\n",
       "    }\n",
       "\n",
       "    .dataframe tbody tr th {\n",
       "        vertical-align: top;\n",
       "    }\n",
       "\n",
       "    .dataframe thead th {\n",
       "        text-align: right;\n",
       "    }\n",
       "</style>\n",
       "<table border=\"1\" class=\"dataframe\">\n",
       "  <thead>\n",
       "    <tr style=\"text-align: right;\">\n",
       "      <th></th>\n",
       "      <th>YearsExperience</th>\n",
       "      <th>Salary</th>\n",
       "    </tr>\n",
       "  </thead>\n",
       "  <tbody>\n",
       "    <tr>\n",
       "      <th>0</th>\n",
       "      <td>1.1</td>\n",
       "      <td>39343.0</td>\n",
       "    </tr>\n",
       "    <tr>\n",
       "      <th>1</th>\n",
       "      <td>1.3</td>\n",
       "      <td>46205.0</td>\n",
       "    </tr>\n",
       "    <tr>\n",
       "      <th>2</th>\n",
       "      <td>1.5</td>\n",
       "      <td>37731.0</td>\n",
       "    </tr>\n",
       "    <tr>\n",
       "      <th>3</th>\n",
       "      <td>2.0</td>\n",
       "      <td>43525.0</td>\n",
       "    </tr>\n",
       "    <tr>\n",
       "      <th>4</th>\n",
       "      <td>2.2</td>\n",
       "      <td>39891.0</td>\n",
       "    </tr>\n",
       "  </tbody>\n",
       "</table>\n",
       "</div>"
      ],
      "text/plain": [
       "   YearsExperience   Salary\n",
       "0              1.1  39343.0\n",
       "1              1.3  46205.0\n",
       "2              1.5  37731.0\n",
       "3              2.0  43525.0\n",
       "4              2.2  39891.0"
      ]
     },
     "execution_count": 3,
     "metadata": {},
     "output_type": "execute_result"
    }
   ],
   "source": [
    "df.head()"
   ]
  },
  {
   "cell_type": "markdown",
   "id": "48cb8375",
   "metadata": {
    "papermill": {
     "duration": 0.009048,
     "end_time": "2023-05-30T20:36:18.334767",
     "exception": false,
     "start_time": "2023-05-30T20:36:18.325719",
     "status": "completed"
    },
    "tags": []
   },
   "source": [
    "## <span style=\"color: #FF4500;\"> *4.2 DataFrame.tail():* </span>\n",
    "#### Returns the last 5 rows of a DataFrame.\n"
   ]
  },
  {
   "cell_type": "code",
   "execution_count": 4,
   "id": "da144979",
   "metadata": {
    "execution": {
     "iopub.execute_input": "2023-05-30T20:36:18.355673Z",
     "iopub.status.busy": "2023-05-30T20:36:18.354677Z",
     "iopub.status.idle": "2023-05-30T20:36:18.365490Z",
     "shell.execute_reply": "2023-05-30T20:36:18.364376Z"
    },
    "papermill": {
     "duration": 0.023684,
     "end_time": "2023-05-30T20:36:18.367931",
     "exception": false,
     "start_time": "2023-05-30T20:36:18.344247",
     "status": "completed"
    },
    "tags": []
   },
   "outputs": [
    {
     "data": {
      "text/html": [
       "<div>\n",
       "<style scoped>\n",
       "    .dataframe tbody tr th:only-of-type {\n",
       "        vertical-align: middle;\n",
       "    }\n",
       "\n",
       "    .dataframe tbody tr th {\n",
       "        vertical-align: top;\n",
       "    }\n",
       "\n",
       "    .dataframe thead th {\n",
       "        text-align: right;\n",
       "    }\n",
       "</style>\n",
       "<table border=\"1\" class=\"dataframe\">\n",
       "  <thead>\n",
       "    <tr style=\"text-align: right;\">\n",
       "      <th></th>\n",
       "      <th>YearsExperience</th>\n",
       "      <th>Salary</th>\n",
       "    </tr>\n",
       "  </thead>\n",
       "  <tbody>\n",
       "    <tr>\n",
       "      <th>25</th>\n",
       "      <td>9.0</td>\n",
       "      <td>105582.0</td>\n",
       "    </tr>\n",
       "    <tr>\n",
       "      <th>26</th>\n",
       "      <td>9.5</td>\n",
       "      <td>116969.0</td>\n",
       "    </tr>\n",
       "    <tr>\n",
       "      <th>27</th>\n",
       "      <td>9.6</td>\n",
       "      <td>112635.0</td>\n",
       "    </tr>\n",
       "    <tr>\n",
       "      <th>28</th>\n",
       "      <td>10.3</td>\n",
       "      <td>122391.0</td>\n",
       "    </tr>\n",
       "    <tr>\n",
       "      <th>29</th>\n",
       "      <td>10.5</td>\n",
       "      <td>121872.0</td>\n",
       "    </tr>\n",
       "  </tbody>\n",
       "</table>\n",
       "</div>"
      ],
      "text/plain": [
       "    YearsExperience    Salary\n",
       "25              9.0  105582.0\n",
       "26              9.5  116969.0\n",
       "27              9.6  112635.0\n",
       "28             10.3  122391.0\n",
       "29             10.5  121872.0"
      ]
     },
     "execution_count": 4,
     "metadata": {},
     "output_type": "execute_result"
    }
   ],
   "source": [
    "df.tail()"
   ]
  },
  {
   "cell_type": "markdown",
   "id": "e65e3728",
   "metadata": {
    "papermill": {
     "duration": 0.009922,
     "end_time": "2023-05-30T20:36:18.387761",
     "exception": false,
     "start_time": "2023-05-30T20:36:18.377839",
     "status": "completed"
    },
    "tags": []
   },
   "source": [
    "## <span style=\"color: #FF4500;\"> *4.3 DataFrame.isnull():* </span>\n",
    "#### Returns a DataFrame of the same shape as the original, with True in locations where null values are present and False otherwise."
   ]
  },
  {
   "cell_type": "code",
   "execution_count": 5,
   "id": "e21daca6",
   "metadata": {
    "execution": {
     "iopub.execute_input": "2023-05-30T20:36:18.409596Z",
     "iopub.status.busy": "2023-05-30T20:36:18.408859Z",
     "iopub.status.idle": "2023-05-30T20:36:18.420973Z",
     "shell.execute_reply": "2023-05-30T20:36:18.419842Z"
    },
    "papermill": {
     "duration": 0.025825,
     "end_time": "2023-05-30T20:36:18.423495",
     "exception": false,
     "start_time": "2023-05-30T20:36:18.397670",
     "status": "completed"
    },
    "tags": []
   },
   "outputs": [
    {
     "data": {
      "text/html": [
       "<div>\n",
       "<style scoped>\n",
       "    .dataframe tbody tr th:only-of-type {\n",
       "        vertical-align: middle;\n",
       "    }\n",
       "\n",
       "    .dataframe tbody tr th {\n",
       "        vertical-align: top;\n",
       "    }\n",
       "\n",
       "    .dataframe thead th {\n",
       "        text-align: right;\n",
       "    }\n",
       "</style>\n",
       "<table border=\"1\" class=\"dataframe\">\n",
       "  <thead>\n",
       "    <tr style=\"text-align: right;\">\n",
       "      <th></th>\n",
       "      <th>YearsExperience</th>\n",
       "      <th>Salary</th>\n",
       "    </tr>\n",
       "  </thead>\n",
       "  <tbody>\n",
       "    <tr>\n",
       "      <th>0</th>\n",
       "      <td>False</td>\n",
       "      <td>False</td>\n",
       "    </tr>\n",
       "    <tr>\n",
       "      <th>1</th>\n",
       "      <td>False</td>\n",
       "      <td>False</td>\n",
       "    </tr>\n",
       "    <tr>\n",
       "      <th>2</th>\n",
       "      <td>False</td>\n",
       "      <td>False</td>\n",
       "    </tr>\n",
       "    <tr>\n",
       "      <th>3</th>\n",
       "      <td>False</td>\n",
       "      <td>False</td>\n",
       "    </tr>\n",
       "    <tr>\n",
       "      <th>4</th>\n",
       "      <td>False</td>\n",
       "      <td>False</td>\n",
       "    </tr>\n",
       "    <tr>\n",
       "      <th>5</th>\n",
       "      <td>False</td>\n",
       "      <td>False</td>\n",
       "    </tr>\n",
       "    <tr>\n",
       "      <th>6</th>\n",
       "      <td>False</td>\n",
       "      <td>False</td>\n",
       "    </tr>\n",
       "    <tr>\n",
       "      <th>7</th>\n",
       "      <td>False</td>\n",
       "      <td>False</td>\n",
       "    </tr>\n",
       "    <tr>\n",
       "      <th>8</th>\n",
       "      <td>False</td>\n",
       "      <td>False</td>\n",
       "    </tr>\n",
       "    <tr>\n",
       "      <th>9</th>\n",
       "      <td>False</td>\n",
       "      <td>False</td>\n",
       "    </tr>\n",
       "    <tr>\n",
       "      <th>10</th>\n",
       "      <td>False</td>\n",
       "      <td>False</td>\n",
       "    </tr>\n",
       "    <tr>\n",
       "      <th>11</th>\n",
       "      <td>False</td>\n",
       "      <td>False</td>\n",
       "    </tr>\n",
       "    <tr>\n",
       "      <th>12</th>\n",
       "      <td>False</td>\n",
       "      <td>False</td>\n",
       "    </tr>\n",
       "    <tr>\n",
       "      <th>13</th>\n",
       "      <td>False</td>\n",
       "      <td>False</td>\n",
       "    </tr>\n",
       "    <tr>\n",
       "      <th>14</th>\n",
       "      <td>False</td>\n",
       "      <td>False</td>\n",
       "    </tr>\n",
       "    <tr>\n",
       "      <th>15</th>\n",
       "      <td>False</td>\n",
       "      <td>False</td>\n",
       "    </tr>\n",
       "    <tr>\n",
       "      <th>16</th>\n",
       "      <td>False</td>\n",
       "      <td>False</td>\n",
       "    </tr>\n",
       "    <tr>\n",
       "      <th>17</th>\n",
       "      <td>False</td>\n",
       "      <td>False</td>\n",
       "    </tr>\n",
       "    <tr>\n",
       "      <th>18</th>\n",
       "      <td>False</td>\n",
       "      <td>False</td>\n",
       "    </tr>\n",
       "    <tr>\n",
       "      <th>19</th>\n",
       "      <td>False</td>\n",
       "      <td>False</td>\n",
       "    </tr>\n",
       "    <tr>\n",
       "      <th>20</th>\n",
       "      <td>False</td>\n",
       "      <td>False</td>\n",
       "    </tr>\n",
       "    <tr>\n",
       "      <th>21</th>\n",
       "      <td>False</td>\n",
       "      <td>False</td>\n",
       "    </tr>\n",
       "    <tr>\n",
       "      <th>22</th>\n",
       "      <td>False</td>\n",
       "      <td>False</td>\n",
       "    </tr>\n",
       "    <tr>\n",
       "      <th>23</th>\n",
       "      <td>False</td>\n",
       "      <td>False</td>\n",
       "    </tr>\n",
       "    <tr>\n",
       "      <th>24</th>\n",
       "      <td>False</td>\n",
       "      <td>False</td>\n",
       "    </tr>\n",
       "    <tr>\n",
       "      <th>25</th>\n",
       "      <td>False</td>\n",
       "      <td>False</td>\n",
       "    </tr>\n",
       "    <tr>\n",
       "      <th>26</th>\n",
       "      <td>False</td>\n",
       "      <td>False</td>\n",
       "    </tr>\n",
       "    <tr>\n",
       "      <th>27</th>\n",
       "      <td>False</td>\n",
       "      <td>False</td>\n",
       "    </tr>\n",
       "    <tr>\n",
       "      <th>28</th>\n",
       "      <td>False</td>\n",
       "      <td>False</td>\n",
       "    </tr>\n",
       "    <tr>\n",
       "      <th>29</th>\n",
       "      <td>False</td>\n",
       "      <td>False</td>\n",
       "    </tr>\n",
       "  </tbody>\n",
       "</table>\n",
       "</div>"
      ],
      "text/plain": [
       "    YearsExperience  Salary\n",
       "0             False   False\n",
       "1             False   False\n",
       "2             False   False\n",
       "3             False   False\n",
       "4             False   False\n",
       "5             False   False\n",
       "6             False   False\n",
       "7             False   False\n",
       "8             False   False\n",
       "9             False   False\n",
       "10            False   False\n",
       "11            False   False\n",
       "12            False   False\n",
       "13            False   False\n",
       "14            False   False\n",
       "15            False   False\n",
       "16            False   False\n",
       "17            False   False\n",
       "18            False   False\n",
       "19            False   False\n",
       "20            False   False\n",
       "21            False   False\n",
       "22            False   False\n",
       "23            False   False\n",
       "24            False   False\n",
       "25            False   False\n",
       "26            False   False\n",
       "27            False   False\n",
       "28            False   False\n",
       "29            False   False"
      ]
     },
     "execution_count": 5,
     "metadata": {},
     "output_type": "execute_result"
    }
   ],
   "source": [
    "df.isnull()"
   ]
  },
  {
   "cell_type": "markdown",
   "id": "041ba85b",
   "metadata": {
    "papermill": {
     "duration": 0.009951,
     "end_time": "2023-05-30T20:36:18.443711",
     "exception": false,
     "start_time": "2023-05-30T20:36:18.433760",
     "status": "completed"
    },
    "tags": []
   },
   "source": [
    "## <span style=\"color: #FF4500;\"> *4.4 DataFrame.info():* </span>\n",
    "#### Provides a summary of the DataFrame, including column names, data types, and non-null counts."
   ]
  },
  {
   "cell_type": "code",
   "execution_count": 6,
   "id": "939ba287",
   "metadata": {
    "execution": {
     "iopub.execute_input": "2023-05-30T20:36:18.465732Z",
     "iopub.status.busy": "2023-05-30T20:36:18.465308Z",
     "iopub.status.idle": "2023-05-30T20:36:18.494158Z",
     "shell.execute_reply": "2023-05-30T20:36:18.492568Z"
    },
    "papermill": {
     "duration": 0.042651,
     "end_time": "2023-05-30T20:36:18.496479",
     "exception": false,
     "start_time": "2023-05-30T20:36:18.453828",
     "status": "completed"
    },
    "tags": []
   },
   "outputs": [
    {
     "name": "stdout",
     "output_type": "stream",
     "text": [
      "<class 'pandas.core.frame.DataFrame'>\n",
      "RangeIndex: 30 entries, 0 to 29\n",
      "Data columns (total 2 columns):\n",
      " #   Column           Non-Null Count  Dtype  \n",
      "---  ------           --------------  -----  \n",
      " 0   YearsExperience  30 non-null     float64\n",
      " 1   Salary           30 non-null     float64\n",
      "dtypes: float64(2)\n",
      "memory usage: 608.0 bytes\n"
     ]
    }
   ],
   "source": [
    "df.info()"
   ]
  },
  {
   "cell_type": "markdown",
   "id": "a459900d",
   "metadata": {
    "papermill": {
     "duration": 0.01011,
     "end_time": "2023-05-30T20:36:18.517137",
     "exception": false,
     "start_time": "2023-05-30T20:36:18.507027",
     "status": "completed"
    },
    "tags": []
   },
   "source": [
    "## <span style=\"color: #FF4500;\"> *4.5 DataFrame.describe():* </span>\n",
    "#### Generates descriptive statistics of numerical columns in the DataFrame, such as count, mean, min, max, etc."
   ]
  },
  {
   "cell_type": "code",
   "execution_count": 7,
   "id": "a08e6d6b",
   "metadata": {
    "execution": {
     "iopub.execute_input": "2023-05-30T20:36:18.538955Z",
     "iopub.status.busy": "2023-05-30T20:36:18.538224Z",
     "iopub.status.idle": "2023-05-30T20:36:18.558149Z",
     "shell.execute_reply": "2023-05-30T20:36:18.556965Z"
    },
    "papermill": {
     "duration": 0.033395,
     "end_time": "2023-05-30T20:36:18.560529",
     "exception": false,
     "start_time": "2023-05-30T20:36:18.527134",
     "status": "completed"
    },
    "tags": []
   },
   "outputs": [
    {
     "data": {
      "text/html": [
       "<div>\n",
       "<style scoped>\n",
       "    .dataframe tbody tr th:only-of-type {\n",
       "        vertical-align: middle;\n",
       "    }\n",
       "\n",
       "    .dataframe tbody tr th {\n",
       "        vertical-align: top;\n",
       "    }\n",
       "\n",
       "    .dataframe thead th {\n",
       "        text-align: right;\n",
       "    }\n",
       "</style>\n",
       "<table border=\"1\" class=\"dataframe\">\n",
       "  <thead>\n",
       "    <tr style=\"text-align: right;\">\n",
       "      <th></th>\n",
       "      <th>YearsExperience</th>\n",
       "      <th>Salary</th>\n",
       "    </tr>\n",
       "  </thead>\n",
       "  <tbody>\n",
       "    <tr>\n",
       "      <th>count</th>\n",
       "      <td>30.000000</td>\n",
       "      <td>30.000000</td>\n",
       "    </tr>\n",
       "    <tr>\n",
       "      <th>mean</th>\n",
       "      <td>5.313333</td>\n",
       "      <td>76003.000000</td>\n",
       "    </tr>\n",
       "    <tr>\n",
       "      <th>std</th>\n",
       "      <td>2.837888</td>\n",
       "      <td>27414.429785</td>\n",
       "    </tr>\n",
       "    <tr>\n",
       "      <th>min</th>\n",
       "      <td>1.100000</td>\n",
       "      <td>37731.000000</td>\n",
       "    </tr>\n",
       "    <tr>\n",
       "      <th>25%</th>\n",
       "      <td>3.200000</td>\n",
       "      <td>56720.750000</td>\n",
       "    </tr>\n",
       "    <tr>\n",
       "      <th>50%</th>\n",
       "      <td>4.700000</td>\n",
       "      <td>65237.000000</td>\n",
       "    </tr>\n",
       "    <tr>\n",
       "      <th>75%</th>\n",
       "      <td>7.700000</td>\n",
       "      <td>100544.750000</td>\n",
       "    </tr>\n",
       "    <tr>\n",
       "      <th>max</th>\n",
       "      <td>10.500000</td>\n",
       "      <td>122391.000000</td>\n",
       "    </tr>\n",
       "  </tbody>\n",
       "</table>\n",
       "</div>"
      ],
      "text/plain": [
       "       YearsExperience         Salary\n",
       "count        30.000000      30.000000\n",
       "mean          5.313333   76003.000000\n",
       "std           2.837888   27414.429785\n",
       "min           1.100000   37731.000000\n",
       "25%           3.200000   56720.750000\n",
       "50%           4.700000   65237.000000\n",
       "75%           7.700000  100544.750000\n",
       "max          10.500000  122391.000000"
      ]
     },
     "execution_count": 7,
     "metadata": {},
     "output_type": "execute_result"
    }
   ],
   "source": [
    "df.describe()"
   ]
  },
  {
   "cell_type": "markdown",
   "id": "1b022980",
   "metadata": {
    "papermill": {
     "duration": 0.009934,
     "end_time": "2023-05-30T20:36:18.580705",
     "exception": false,
     "start_time": "2023-05-30T20:36:18.570771",
     "status": "completed"
    },
    "tags": []
   },
   "source": [
    "## <span style=\"color: #FF4500;\"> *4.6 DataFrame.shape:* </span>\n",
    "#### Returns the dimensions (rows, columns) of the DataFrame."
   ]
  },
  {
   "cell_type": "code",
   "execution_count": 8,
   "id": "af07ba14",
   "metadata": {
    "execution": {
     "iopub.execute_input": "2023-05-30T20:36:18.602979Z",
     "iopub.status.busy": "2023-05-30T20:36:18.602572Z",
     "iopub.status.idle": "2023-05-30T20:36:18.609939Z",
     "shell.execute_reply": "2023-05-30T20:36:18.608861Z"
    },
    "papermill": {
     "duration": 0.021404,
     "end_time": "2023-05-30T20:36:18.612350",
     "exception": false,
     "start_time": "2023-05-30T20:36:18.590946",
     "status": "completed"
    },
    "tags": []
   },
   "outputs": [
    {
     "data": {
      "text/plain": [
       "(30, 2)"
      ]
     },
     "execution_count": 8,
     "metadata": {},
     "output_type": "execute_result"
    }
   ],
   "source": [
    "df.shape"
   ]
  },
  {
   "cell_type": "markdown",
   "id": "8f4a613f",
   "metadata": {
    "papermill": {
     "duration": 0.009829,
     "end_time": "2023-05-30T20:36:18.632732",
     "exception": false,
     "start_time": "2023-05-30T20:36:18.622903",
     "status": "completed"
    },
    "tags": []
   },
   "source": [
    "## <span style=\"color: #FF4500;\"> *4.7 DataFrame.dtypes():* </span>\n",
    "#### Returns the data types of each column in the DataFrame."
   ]
  },
  {
   "cell_type": "code",
   "execution_count": 9,
   "id": "396009b4",
   "metadata": {
    "execution": {
     "iopub.execute_input": "2023-05-30T20:36:18.655285Z",
     "iopub.status.busy": "2023-05-30T20:36:18.654805Z",
     "iopub.status.idle": "2023-05-30T20:36:18.663483Z",
     "shell.execute_reply": "2023-05-30T20:36:18.662270Z"
    },
    "papermill": {
     "duration": 0.022699,
     "end_time": "2023-05-30T20:36:18.665735",
     "exception": false,
     "start_time": "2023-05-30T20:36:18.643036",
     "status": "completed"
    },
    "tags": []
   },
   "outputs": [
    {
     "data": {
      "text/plain": [
       "YearsExperience    float64\n",
       "Salary             float64\n",
       "dtype: object"
      ]
     },
     "execution_count": 9,
     "metadata": {},
     "output_type": "execute_result"
    }
   ],
   "source": [
    "df.dtypes"
   ]
  },
  {
   "cell_type": "markdown",
   "id": "297d27a3",
   "metadata": {
    "papermill": {
     "duration": 0.010919,
     "end_time": "2023-05-30T20:36:18.687403",
     "exception": false,
     "start_time": "2023-05-30T20:36:18.676484",
     "status": "completed"
    },
    "tags": []
   },
   "source": [
    "<p style=\"padding: 10px; background-color: #000000; margin: 0; color: #FF4500; font-family: New Times Roman; font-size: 135%; text-align: center; border-radius: 5px; overflow: hidden; font-weight: 500;\">\n",
    " STEP-5 : MODEL BUILFING : \n",
    "</p>\n",
    "\n",
    "## <span style=\"color: #FF4500;\"> **BUILDING A LINEAR REGRESSION MODEL :** </span>"
   ]
  },
  {
   "cell_type": "code",
   "execution_count": 10,
   "id": "3ae7ba24",
   "metadata": {
    "execution": {
     "iopub.execute_input": "2023-05-30T20:36:18.710500Z",
     "iopub.status.busy": "2023-05-30T20:36:18.710118Z",
     "iopub.status.idle": "2023-05-30T20:36:18.715304Z",
     "shell.execute_reply": "2023-05-30T20:36:18.714263Z"
    },
    "papermill": {
     "duration": 0.01901,
     "end_time": "2023-05-30T20:36:18.717508",
     "exception": false,
     "start_time": "2023-05-30T20:36:18.698498",
     "status": "completed"
    },
    "tags": []
   },
   "outputs": [],
   "source": [
    "#Set two variables \"X\" or column-1 [INDEPENDENT VARIABLE] and column-2 \"Y\" [\"DEPENDENT VARIABLE\"] \n",
    "\n",
    "x = df['YearsExperience']\n",
    "y = df['Salary']"
   ]
  },
  {
   "cell_type": "code",
   "execution_count": 11,
   "id": "65e431ab",
   "metadata": {
    "execution": {
     "iopub.execute_input": "2023-05-30T20:36:18.740661Z",
     "iopub.status.busy": "2023-05-30T20:36:18.739447Z",
     "iopub.status.idle": "2023-05-30T20:36:18.747339Z",
     "shell.execute_reply": "2023-05-30T20:36:18.746267Z"
    },
    "papermill": {
     "duration": 0.021809,
     "end_time": "2023-05-30T20:36:18.749835",
     "exception": false,
     "start_time": "2023-05-30T20:36:18.728026",
     "status": "completed"
    },
    "tags": []
   },
   "outputs": [],
   "source": [
    "#Calculating the Regression Line\n",
    "def linear_regression(x, y):     \n",
    "    N = len(x)\n",
    "    \n",
    "    #calculates the mean of both x and y, which is used to calculate the slope of the line.\n",
    "    x_mean = x.mean() \n",
    "    y_mean = y.mean()\n",
    "    \n",
    "    # Then it calculates how many data points are in each group (B1_num) and divides them by that number (B1_den).\n",
    "    B1_num = ((x - x_mean) * (y - y_mean)).sum()\n",
    "    B1_den = ((x - x_mean)**2).sum()\n",
    "    B1 = B1_num / B1_den\n",
    "    \n",
    "    # We then take this value and multiply it by x_mean so that we can get B0.\n",
    "\n",
    "    B0 = y_mean - (B1*x_mean)\n",
    "    \n",
    "    reg_line = 'y = {} + {}β'.format(B0, round(B1, 3))\n",
    "    \n",
    "    #The code will return the slope of the linear regression line, as well as the intercept.\n",
    "    return (B0, B1, reg_line)"
   ]
  },
  {
   "cell_type": "code",
   "execution_count": 12,
   "id": "19d7212e",
   "metadata": {
    "execution": {
     "iopub.execute_input": "2023-05-30T20:36:18.772288Z",
     "iopub.status.busy": "2023-05-30T20:36:18.771848Z",
     "iopub.status.idle": "2023-05-30T20:36:18.778416Z",
     "shell.execute_reply": "2023-05-30T20:36:18.777348Z"
    },
    "papermill": {
     "duration": 0.020907,
     "end_time": "2023-05-30T20:36:18.781161",
     "exception": false,
     "start_time": "2023-05-30T20:36:18.760254",
     "status": "completed"
    },
    "tags": []
   },
   "outputs": [],
   "source": [
    "N = len(x) # Gives the length column \n",
    "x_mean = x.mean() #Gives the mean of the column \"YearsExperience\".\n",
    "y_mean = y.mean() #Gives the mean of the column \"Salary\"."
   ]
  },
  {
   "cell_type": "markdown",
   "id": "1487cd2a",
   "metadata": {
    "papermill": {
     "duration": 0.009974,
     "end_time": "2023-05-30T20:36:18.801566",
     "exception": false,
     "start_time": "2023-05-30T20:36:18.791592",
     "status": "completed"
    },
    "tags": []
   },
   "source": [
    "## <span style=\"color: #FF4500;\"> **Calculating the value of β1 and β0** </span> \n"
   ]
  },
  {
   "attachments": {
    "cebcebe9-68dd-42dd-a9c3-d0e5e91d2f75.png": {
     "image/png": "[encoded data removed]"
    }
   },
   "cell_type": "markdown",
   "id": "4dfba762",
   "metadata": {
    "papermill": {
     "duration": 0.009813,
     "end_time": "2023-05-30T20:36:18.821586",
     "exception": false,
     "start_time": "2023-05-30T20:36:18.811773",
     "status": "completed"
    },
    "tags": []
   },
   "source": [
    "![image.png](attachment:cebcebe9-68dd-42dd-a9c3-d0e5e91d2f75.png)"
   ]
  },
  {
   "cell_type": "markdown",
   "id": "530372a0",
   "metadata": {
    "papermill": {
     "duration": 0.009787,
     "end_time": "2023-05-30T20:36:18.841555",
     "exception": false,
     "start_time": "2023-05-30T20:36:18.831768",
     "status": "completed"
    },
    "tags": []
   },
   "source": [
    "## <span style=\"color: #FF4500;\"> **Calculating the value of β1 also known as \"B1\"** </span> \n"
   ]
  },
  {
   "cell_type": "code",
   "execution_count": 13,
   "id": "b00736d1",
   "metadata": {
    "execution": {
     "iopub.execute_input": "2023-05-30T20:36:18.864215Z",
     "iopub.status.busy": "2023-05-30T20:36:18.863791Z",
     "iopub.status.idle": "2023-05-30T20:36:18.870919Z",
     "shell.execute_reply": "2023-05-30T20:36:18.869624Z"
    },
    "papermill": {
     "duration": 0.021165,
     "end_time": "2023-05-30T20:36:18.872988",
     "exception": false,
     "start_time": "2023-05-30T20:36:18.851823",
     "status": "completed"
    },
    "tags": []
   },
   "outputs": [],
   "source": [
    "B1_num = ((x - x_mean  ) * (y - y_mean)).sum()\n",
    "B1_den = ((x - x_mean  )**2).sum()\n",
    "B1 = B1_num / B1_den"
   ]
  },
  {
   "cell_type": "markdown",
   "id": "a844774d",
   "metadata": {
    "papermill": {
     "duration": 0.009941,
     "end_time": "2023-05-30T20:36:18.893391",
     "exception": false,
     "start_time": "2023-05-30T20:36:18.883450",
     "status": "completed"
    },
    "tags": []
   },
   "source": [
    "## <span style=\"color: #FF4500;\"> **Calculating the value of β0 also known as \"B0\"** </span>\n",
    "\n"
   ]
  },
  {
   "cell_type": "code",
   "execution_count": 14,
   "id": "3e6aa3fe",
   "metadata": {
    "execution": {
     "iopub.execute_input": "2023-05-30T20:36:18.916323Z",
     "iopub.status.busy": "2023-05-30T20:36:18.915519Z",
     "iopub.status.idle": "2023-05-30T20:36:18.919910Z",
     "shell.execute_reply": "2023-05-30T20:36:18.919076Z"
    },
    "papermill": {
     "duration": 0.018061,
     "end_time": "2023-05-30T20:36:18.921874",
     "exception": false,
     "start_time": "2023-05-30T20:36:18.903813",
     "status": "completed"
    },
    "tags": []
   },
   "outputs": [],
   "source": [
    "B0 = y_mean - (B1 * x_mean)"
   ]
  },
  {
   "attachments": {
    "ced141a2-85d8-4f00-8369-9608ac3fa047.png": {
     "image/png": "[encoded data removed]"
    }
   },
   "cell_type": "markdown",
   "id": "17f13d4c",
   "metadata": {
    "papermill": {
     "duration": 0.009875,
     "end_time": "2023-05-30T20:36:18.942855",
     "exception": false,
     "start_time": "2023-05-30T20:36:18.932980",
     "status": "completed"
    },
    "tags": []
   },
   "source": [
    "## <span style=\"color: #FF4500;\">**Calculation of Correlation Coefficient**</span>\n",
    "## <span style=\"color: #FF4500;\"> [](http://)![image.png](attachment:ced141a2-85d8-4f00-8369-9608ac3fa047.png) </span>"
   ]
  },
  {
   "cell_type": "code",
   "execution_count": 15,
   "id": "26c3ff64",
   "metadata": {
    "execution": {
     "iopub.execute_input": "2023-05-30T20:36:18.965801Z",
     "iopub.status.busy": "2023-05-30T20:36:18.965041Z",
     "iopub.status.idle": "2023-05-30T20:36:18.971667Z",
     "shell.execute_reply": "2023-05-30T20:36:18.970423Z"
    },
    "papermill": {
     "duration": 0.020926,
     "end_time": "2023-05-30T20:36:18.974187",
     "exception": false,
     "start_time": "2023-05-30T20:36:18.953261",
     "status": "completed"
    },
    "tags": []
   },
   "outputs": [],
   "source": [
    "#Calculating How Well The Regression Line Fits\n",
    "def corr_coef(x, y):\n",
    "    N = len(x)\n",
    "    \n",
    "    num = (N * (x*y).sum()) - (x.sum() * y.sum())\n",
    "    den = np.sqrt((N * (x**2).sum() - x.sum()**2) * (N * (y**2).sum() - y.sum()**2))\n",
    "    R = num / den\n",
    "    return R"
   ]
  },
  {
   "cell_type": "code",
   "execution_count": 16,
   "id": "542e30c4",
   "metadata": {
    "execution": {
     "iopub.execute_input": "2023-05-30T20:36:18.996624Z",
     "iopub.status.busy": "2023-05-30T20:36:18.996229Z",
     "iopub.status.idle": "2023-05-30T20:36:19.005499Z",
     "shell.execute_reply": "2023-05-30T20:36:19.004074Z"
    },
    "papermill": {
     "duration": 0.02359,
     "end_time": "2023-05-30T20:36:19.008258",
     "exception": false,
     "start_time": "2023-05-30T20:36:18.984668",
     "status": "completed"
    },
    "tags": []
   },
   "outputs": [
    {
     "name": "stdout",
     "output_type": "stream",
     "text": [
      "Regression Line:  y = 25792.20019866869 + 9449.962β\n",
      "Correlation Coef.:  0.97824161848876\n",
      "\"Goodness of Fit\":  0.9569566641435087\n"
     ]
    }
   ],
   "source": [
    "#takes two input parameters, x and y, and returns an output parameter named reg_line.\n",
    "B0, B1, reg_line = linear_regression(x, y)\n",
    "print('Regression Line: ', reg_line) # The code calculates the linear regression line of a given set of data.\n",
    "\n",
    "R = corr_coef(x, y) # Next, it calculates the correlation coefficient between x and y using corr_coef().\n",
    "\n",
    "print('Correlation Coef.: ', R)\n",
    "print('\"Goodness of Fit\": ', R**2) #Then it prints out \"Goodness of Fit\" which is calculated as R**2."
   ]
  },
  {
   "cell_type": "markdown",
   "id": "4ac292ce",
   "metadata": {
    "papermill": {
     "duration": 0.010436,
     "end_time": "2023-05-30T20:36:19.029198",
     "exception": false,
     "start_time": "2023-05-30T20:36:19.018762",
     "status": "completed"
    },
    "tags": []
   },
   "source": [
    "<p style=\"padding: 10px; background-color: #000000; margin: 0; color: #FF4500; font-family: New Times Roman; font-size: 135%; text-align: center; border-radius: 5px; overflow: hidden; font-weight: 500;\">\n",
    " STEP-6 : VISUALIZATIONS: \n",
    "</p>\n",
    "\n",
    "## <span style=\"color: #FF4500;\"> **VISUALIZING THE DATA:** </span>"
   ]
  },
  {
   "cell_type": "code",
   "execution_count": 17,
   "id": "4a6f085e",
   "metadata": {
    "execution": {
     "iopub.execute_input": "2023-05-30T20:36:19.052337Z",
     "iopub.status.busy": "2023-05-30T20:36:19.051906Z",
     "iopub.status.idle": "2023-05-30T20:36:19.405982Z",
     "shell.execute_reply": "2023-05-30T20:36:19.405082Z"
    },
    "papermill": {
     "duration": 0.368274,
     "end_time": "2023-05-30T20:36:19.408183",
     "exception": false,
     "start_time": "2023-05-30T20:36:19.039909",
     "status": "completed"
    },
    "tags": []
   },
   "outputs": [
    {
     "data": {
      "text/plain": [
       "<matplotlib.collections.PathCollection at 0x78bd692ec7f0>"
      ]
     },
     "execution_count": 17,
     "metadata": {},
     "output_type": "execute_result"
    },
    {
     "data": {
      "image/png": "[encoded data removed]",
      "text/plain": [
       "<Figure size 1200x500 with 1 Axes>"
      ]
     },
     "metadata": {},
     "output_type": "display_data"
    }
   ],
   "source": [
    "#Plotting the Regression Line\n",
    "plt.figure(figsize=(12,5)) #Plotting the Figure.\n",
    "plt.scatter(x, y, s=300, linewidths=1, edgecolor='black') #Plotting the Scatter.\n",
    "text = '''X Mean: {} Years\n",
    "Y Mean: ${}\n",
    "R: {}\n",
    "R^2: {}\n",
    "y = {} + {}X'''.format(round(x.mean(), 2), \n",
    "                       round(y.mean(), 2), \n",
    "                       round(R, 4), \n",
    "                       round(R**2, 4),\n",
    "                       round(B0, 3),\n",
    "                       round(B1, 3)) # Legend of the Graph.\n",
    "plt.text(x=1, y=100000, s=text, fontsize=12, bbox={'facecolor': 'grey', 'alpha': 0.2, 'pad': 10})\n",
    "plt.title('How Experience Affects Salary') #Title of The Graph..\n",
    "plt.xlabel('Years of Experience', fontsize=15) #Title on X_label\n",
    "plt.ylabel('Salary', fontsize=15) #Title on Y_label\n",
    "plt.plot(x, B0 + B1*x, c = 'r', linewidth=5, alpha=.5, solid_capstyle='round') #Plotting the datapoints.\n",
    "plt.scatter(x=x.mean(), y=y.mean(), marker='^', s=10**2.5, c='r') # average point"
   ]
  },
  {
   "cell_type": "markdown",
   "id": "7172a5d6",
   "metadata": {
    "papermill": {
     "duration": 0.01148,
     "end_time": "2023-05-30T20:36:19.431610",
     "exception": false,
     "start_time": "2023-05-30T20:36:19.420130",
     "status": "completed"
    },
    "tags": []
   },
   "source": [
    "Linear Regression Prediction\n",
    "<p style=\"padding: 10px; background-color: #000000; margin: 0; color: #FF4500; font-family: New Times Roman; font-size: 135%; text-align: center; border-radius: 5px; overflow: hidden; font-weight: 500;\">\n",
    " STEP-7 : PREDICTIONS: \n",
    "</p>\n",
    "\n",
    "## <span style=\"color: #FF4500;\"> **PREDICTION FOR THE DATA:** </span>"
   ]
  },
  {
   "cell_type": "code",
   "execution_count": 18,
   "id": "6f5662a0",
   "metadata": {
    "execution": {
     "iopub.execute_input": "2023-05-30T20:36:19.457390Z",
     "iopub.status.busy": "2023-05-30T20:36:19.456318Z",
     "iopub.status.idle": "2023-05-30T20:36:19.462197Z",
     "shell.execute_reply": "2023-05-30T20:36:19.461084Z"
    },
    "papermill": {
     "duration": 0.021133,
     "end_time": "2023-05-30T20:36:19.464456",
     "exception": false,
     "start_time": "2023-05-30T20:36:19.443323",
     "status": "completed"
    },
    "tags": []
   },
   "outputs": [],
   "source": [
    "def predict(B0, B1, new_x):\n",
    "    y = B0 + B1 * new_x\n",
    "    return y"
   ]
  },
  {
   "cell_type": "code",
   "execution_count": 19,
   "id": "d4f383ee",
   "metadata": {
    "execution": {
     "iopub.execute_input": "2023-05-30T20:36:19.491118Z",
     "iopub.status.busy": "2023-05-30T20:36:19.490254Z",
     "iopub.status.idle": "2023-05-30T20:36:19.498220Z",
     "shell.execute_reply": "2023-05-30T20:36:19.496789Z"
    },
    "papermill": {
     "duration": 0.024248,
     "end_time": "2023-05-30T20:36:19.500588",
     "exception": false,
     "start_time": "2023-05-30T20:36:19.476340",
     "status": "completed"
    },
    "tags": []
   },
   "outputs": [
    {
     "name": "stdout",
     "output_type": "stream",
     "text": [
      "0      39343.0\n",
      "1      46205.0\n",
      "2      37731.0\n",
      "3      43525.0\n",
      "4      39891.0\n",
      "5      56642.0\n",
      "6      60150.0\n",
      "7      54445.0\n",
      "8      64445.0\n",
      "9      57189.0\n",
      "10     63218.0\n",
      "11     55794.0\n",
      "12     56957.0\n",
      "13     57081.0\n",
      "14     61111.0\n",
      "15     67938.0\n",
      "16     66029.0\n",
      "17     83088.0\n",
      "18     81363.0\n",
      "19     93940.0\n",
      "20     91738.0\n",
      "21     98273.0\n",
      "22    101302.0\n",
      "23    113812.0\n",
      "24    109431.0\n",
      "25    105582.0\n",
      "26    116969.0\n",
      "27    112635.0\n",
      "28    122391.0\n",
      "29    121872.0\n",
      "Name: Salary, dtype: float64\n"
     ]
    }
   ],
   "source": [
    "print(y)\n",
    "\n",
    "# Regression OF line.."
   ]
  },
  {
   "cell_type": "markdown",
   "id": "d5107bc1",
   "metadata": {
    "papermill": {
     "duration": 0.011387,
     "end_time": "2023-05-30T20:36:19.523784",
     "exception": false,
     "start_time": "2023-05-30T20:36:19.512397",
     "status": "completed"
    },
    "tags": []
   },
   "source": [
    "# Thank You...\n",
    "\n",
    "Thanks you for giving out your precious time to check out my notebook . Feel free to use and experiment this according to yourself and do upvote it may be of a great help on my path to reach Grandmaster."
   ]
  }
 ],
 "metadata": {
  "kernelspec": {
   "display_name": "Python 3",
   "language": "python",
   "name": "python3"
  },
  "language_info": {
   "codemirror_mode": {
    "name": "ipython",
    "version": 3
   },
   "file_extension": ".py",
   "mimetype": "text/x-python",
   "name": "python",
   "nbconvert_exporter": "python",
   "pygments_lexer": "ipython3",
   "version": "3.10.10"
  },
  "papermill": {
   "default_parameters": {},
   "duration": 17.058649,
   "end_time": "2023-05-30T20:36:20.562839",
   "environment_variables": {},
   "exception": null,
   "input_path": "__notebook__.ipynb",
   "output_path": "__notebook__.ipynb",
   "parameters": {},
   "start_time": "2023-05-30T20:36:03.504190",
   "version": "2.4.0"
  }
 },
 "nbformat": 4,
 "nbformat_minor": 5
}
